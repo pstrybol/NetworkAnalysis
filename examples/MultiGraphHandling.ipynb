{
 "cells": [
  {
   "cell_type": "code",
   "execution_count": 1,
   "metadata": {},
   "outputs": [],
   "source": [
    "from NetworkAnalysis.UndirectedInteractionNetwork import UndirectedInteractionNetwork\n",
    "from NetworkAnalysis.MultiGraph import MultiGraph\n",
    "import matplotlib.pyplot as plt\n",
    "import seaborn as sns\n",
    "import pandas as pd\n",
    "import numpy as np\n",
    "import random"
   ]
  },
  {
   "cell_type": "code",
   "execution_count": 2,
   "metadata": {},
   "outputs": [
    {
     "name": "stdout",
     "output_type": "stream",
     "text": [
      "13751 Nodes and 257496 interactions\n",
      "13751 Nodes and 257496 interactions\n"
     ]
    }
   ],
   "source": [
    "# Initialize scaffold\n",
    "GRAPH_PATH = \"/home/bioit/pstrybol/ppi_network_scaffolds/reactome_2021.txt\"\n",
    "\n",
    "\n",
    "reactome = pd.read_csv(GRAPH_PATH, sep='\\t')\n",
    "colnames = ['Gene1', 'Gene2'] # Select relevant columns from the edgelist\n",
    "# Initialize an UndirectedInteractionNetwork object\n",
    "nw_obj = UndirectedInteractionNetwork(reactome, colnames=colnames,\n",
    "                                      keeplargestcomponent=True,\n",
    "                                      node_types={name: \"gene\" for name in pd.unique(reactome[colnames].values.ravel())})\n",
    "\n"
   ]
  },
  {
   "cell_type": "code",
   "execution_count": 3,
   "metadata": {},
   "outputs": [
    {
     "name": "stdout",
     "output_type": "stream",
     "text": [
      "4197 Nodes and 4900 interactions\n"
     ]
    }
   ],
   "source": [
    "# Randomly generate cell line - gene pairs\n",
    "# Let's say we have 50 cell lines with each 100 dependencies\n",
    "\n",
    "cell2dependency = {f\"C{i}\": random.sample(list(nw_obj.node_names), k=100) for i in range(1, 50)}\n",
    "cellEdge_list = pd.DataFrame(cell2dependency).melt()\n",
    "\n",
    "cell_node_type = {i: \"gene\" if i in nw_obj.node_names else \"cellLine\" for i in cellEdge_list.values.ravel()}\n",
    "\n",
    "cell_nw_obj = UndirectedInteractionNetwork(cellEdge_list,\n",
    "                                           keeplargestcomponent=False,\n",
    "                                           node_types=cell_node_type)"
   ]
  },
  {
   "cell_type": "code",
   "execution_count": 4,
   "metadata": {},
   "outputs": [
    {
     "name": "stdout",
     "output_type": "stream",
     "text": [
      "13794 Nodes and 262396 interactions\n",
      "          Gene_A                    Gene_B              type\n",
      "0         16-5-5                     CDC42          scaffold\n",
      "1         16-5-5                     PARD3          scaffold\n",
      "2         16-5-5                    PARD3B          scaffold\n",
      "3           A1CF                   APOBEC1          scaffold\n",
      "4           A1CF                     EP300          scaffold\n",
      "...          ...                       ...               ...\n",
      "262391      BOD1                       C49  cellDependencies\n",
      "262392       C49                      TLE5  cellDependencies\n",
      "262393       C49                     RBMX2  cellDependencies\n",
      "262394  ADAMTS13                       C49  cellDependencies\n",
      "262395       C49  KIF5B-RET(NM_020630)_K22  cellDependencies\n",
      "\n",
      "[262396 rows x 3 columns]\n"
     ]
    }
   ],
   "source": [
    "# Combine networks into multigraph\n",
    "multigraph_obj = MultiGraph(graph_dict={\"scaffold\": nw_obj, \"cellDependencies\": cell_nw_obj})\n",
    "print(multigraph_obj)"
   ]
  },
  {
   "cell_type": "code",
   "execution_count": 6,
   "metadata": {},
   "outputs": [
    {
     "name": "stdout",
     "output_type": "stream",
     "text": [
      "Starting with edge type 0: cellDependencies\n",
      "Returning UndirectedInteractionNetwork object.\n",
      "Continuing with Gene_A and Gene_B as columns for the nodes\n",
      "4197 Nodes and 4900 interactions\n",
      "Starting with edge type 1: scaffold\n",
      "Returning UndirectedInteractionNetwork object.\n",
      "Continuing with Gene_A and Gene_B as columns for the nodes\n",
      "13751 Nodes and 257496 interactions\n",
      "Size of pos test: 78717\n",
      "Size of pos train: 183677\n",
      "Size of pos validation: 0\n",
      "Size of neg test: 393588\n",
      "Size of neg train: 849407\n",
      "Size of neg validation: 0\n"
     ]
    }
   ],
   "source": [
    "X_train, X_val, X_test,\\\n",
    "    Y_train, Y_val, Y_test = multigraph_obj.getTrainTestData(train_ratio=0.7, \n",
    "                                                                     neg_pos_ratio=5., \n",
    "                                                                     train_validation_ratio=None, \n",
    "                                                                     excluded_sets=None,\n",
    "                                                                     random_state=42, \n",
    "                                                                     mode=\"SLT\", debug_mode=True)\n"
   ]
  },
  {
   "attachments": {},
   "cell_type": "markdown",
   "metadata": {},
   "source": []
  }
 ],
 "metadata": {
  "kernelspec": {
   "display_name": "networkAnalysis_public",
   "language": "python",
   "name": "python3"
  },
  "language_info": {
   "codemirror_mode": {
    "name": "ipython",
    "version": 3
   },
   "file_extension": ".py",
   "mimetype": "text/x-python",
   "name": "python",
   "nbconvert_exporter": "python",
   "pygments_lexer": "ipython3",
   "version": "3.10.11"
  },
  "orig_nbformat": 4
 },
 "nbformat": 4,
 "nbformat_minor": 2
}
